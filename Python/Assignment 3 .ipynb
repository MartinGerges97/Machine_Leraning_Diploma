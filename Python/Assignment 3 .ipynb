{
 "cells": [
  {
   "cell_type": "markdown",
   "metadata": {},
   "source": [
    "# Assignment 3"
   ]
  },
  {
   "cell_type": "markdown",
   "metadata": {},
   "source": [
    "### Write a function to count the number 4 in a given list."
   ]
  },
  {
   "cell_type": "code",
   "execution_count": 2,
   "metadata": {},
   "outputs": [
    {
     "data": {
      "text/plain": [
       "6"
      ]
     },
     "execution_count": 2,
     "metadata": {},
     "output_type": "execute_result"
    }
   ],
   "source": [
    "def counter(lst):\n",
    "    count = 0\n",
    "    for i in range(len(lst)):\n",
    "        if lst[i]==4:\n",
    "            count +=1\n",
    "    return count\n",
    "\n",
    "lst = [1,2,5,4,8,4,6,4,9,4,1,4,4] # 6 of fours\n",
    "\n",
    "counter(lst)\n",
    "    "
   ]
  },
  {
   "cell_type": "markdown",
   "metadata": {},
   "source": [
    "### write a  function to check whether a number is divisible by another number."
   ]
  },
  {
   "cell_type": "code",
   "execution_count": 8,
   "metadata": {},
   "outputs": [
    {
     "name": "stdout",
     "output_type": "stream",
     "text": [
      "6 is divisible by 3 \n",
      "8 is divisible by 2 \n",
      "7 and 5 are not divisible by each other\n"
     ]
    }
   ],
   "source": [
    "def is_divisible(num1,num2):\n",
    "    if num1 % num2 == 0:\n",
    "        print(f'{num1} is divisible by {num2} ')\n",
    "    elif num2 % num1 ==0:\n",
    "        print(f'{num2} is divisible by {num1}')\n",
    "    else:\n",
    "        print(f'{num1} and {num2} are not divisible by each other')\n",
    "\n",
    "        \n",
    "        \n",
    "is_divisible(6,3)\n",
    "is_divisible(8,2)\n",
    "is_divisible(7,5)\n",
    "\n",
    "    \n",
    "    "
   ]
  },
  {
   "cell_type": "markdown",
   "metadata": {},
   "source": [
    "### write a function to find the maximum and minimum numbers from a sequence of numbers."
   ]
  },
  {
   "cell_type": "code",
   "execution_count": 9,
   "metadata": {},
   "outputs": [
    {
     "data": {
      "text/plain": [
       "(9, 1)"
      ]
     },
     "execution_count": 9,
     "metadata": {},
     "output_type": "execute_result"
    }
   ],
   "source": [
    "def max_min(lst):\n",
    "    maxi = max(lst)\n",
    "    mini = min(lst)\n",
    "    return maxi,mini\n",
    "\n",
    "lst = [2,5,1,9,7,6,5]\n",
    "\n",
    "max_min(lst)"
   ]
  },
  {
   "cell_type": "markdown",
   "metadata": {},
   "source": [
    "### Write a Python function that takes two lists and returns True if they have at least one common member."
   ]
  },
  {
   "cell_type": "code",
   "execution_count": 15,
   "metadata": {},
   "outputs": [
    {
     "name": "stdout",
     "output_type": "stream",
     "text": [
      "True\n"
     ]
    }
   ],
   "source": [
    "def find_common(lst1,lst2):\n",
    "    for i in range(len(lst1)):\n",
    "        for j in range(len(lst2)):\n",
    "            if lst1[i]==lst2[j]:\n",
    "                print('True')\n",
    "                break\n",
    "\n",
    "lst1 = [1,2,3,4,5]\n",
    "lst2 = [6,2,8,9,10]\n",
    "find_common(lst1,lst2)"
   ]
  },
  {
   "cell_type": "markdown",
   "metadata": {},
   "source": [
    "### Write a Python function to calculate the factorial of a number (a non-negative integer). The function accepts the number from the user"
   ]
  },
  {
   "cell_type": "code",
   "execution_count": 26,
   "metadata": {},
   "outputs": [
    {
     "name": "stdout",
     "output_type": "stream",
     "text": [
      "please enter a number: 5\n"
     ]
    },
    {
     "data": {
      "text/plain": [
       "120"
      ]
     },
     "execution_count": 26,
     "metadata": {},
     "output_type": "execute_result"
    }
   ],
   "source": [
    "def factorial(num):\n",
    "    if num < 0 :\n",
    "        print('error plase enter non-negative number')\n",
    "    elif num ==1:\n",
    "        return 1\n",
    "    else :\n",
    "        return num * factorial(num-1)\n",
    "\n",
    "num = int(input('please enter a number: '))\n",
    "\n",
    "factorial(num)"
   ]
  },
  {
   "cell_type": "markdown",
   "metadata": {},
   "source": [
    "### Write a Python function to check whether a number is in a given range.\n",
    "\n",
    "### The range is from 3 to 11\n"
   ]
  },
  {
   "cell_type": "code",
   "execution_count": 22,
   "metadata": {},
   "outputs": [
    {
     "name": "stdout",
     "output_type": "stream",
     "text": [
      "please enter a number: 8\n",
      "please enter a number: 15\n",
      "True\n",
      "False\n"
     ]
    }
   ],
   "source": [
    "def check_within_range(num):\n",
    "    print(num >= 3 and num <=11)\n",
    "\n",
    "num1 = int(input('please enter a number: '))\n",
    "num2 = int(input('please enter a number: '))\n",
    "\n",
    "check_within_range(num1)\n",
    "check_within_range(num2)"
   ]
  },
  {
   "cell_type": "markdown",
   "metadata": {},
   "source": [
    "### Write a  program to create the multiplication table (from 1 to 10) of a number."
   ]
  },
  {
   "cell_type": "code",
   "execution_count": 30,
   "metadata": {},
   "outputs": [
    {
     "name": "stdout",
     "output_type": "stream",
     "text": [
      "7\n",
      "14\n",
      "21\n",
      "28\n",
      "35\n",
      "42\n",
      "49\n",
      "56\n",
      "63\n",
      "70\n"
     ]
    }
   ],
   "source": [
    "def multiplication_tabel(num):\n",
    "    for i in range(1,11):\n",
    "        print(num*i)\n",
    "\n",
    "multiplication_tabel(7)\n",
    "    "
   ]
  },
  {
   "cell_type": "markdown",
   "metadata": {},
   "source": [
    "#### LESSER OF TWO EVENS: Write a function that returns the lesser of two given numbers *if* both numbers are even, but returns the greater if one or both numbers are odd\n",
    "    lesser_of_two_evens(2,4) --> 2\n",
    "    lesser_of_two_evens(2,5) --> 5"
   ]
  },
  {
   "cell_type": "code",
   "execution_count": 42,
   "metadata": {},
   "outputs": [
    {
     "name": "stdout",
     "output_type": "stream",
     "text": [
      "2\n",
      "5\n"
     ]
    }
   ],
   "source": [
    "def LESSER_OF_TWO_EVENS(num1,num2):\n",
    "    if num1%2 == 0 and num2%2 == 0:\n",
    "        if num1>num2:\n",
    "            return num2\n",
    "        else:\n",
    "            return num1\n",
    "    else:\n",
    "        if num1>num2:\n",
    "            return num1\n",
    "        else:\n",
    "            return num2\n",
    "\n",
    "print(LESSER_OF_TWO_EVENS(2,6))\n",
    "print(LESSER_OF_TWO_EVENS(3,5))"
   ]
  },
  {
   "cell_type": "markdown",
   "metadata": {},
   "source": [
    "#### ANIMAL CRACKERS: Write a function takes a two-word string and returns True if both words begin with same letter\n",
    "    animal_crackers('Levelheaded Llama') --> True\n",
    "    animal_crackers('Crazy Kangaroo') --> False"
   ]
  },
  {
   "cell_type": "code",
   "execution_count": 44,
   "metadata": {},
   "outputs": [
    {
     "name": "stdout",
     "output_type": "stream",
     "text": [
      "True\n",
      "False\n"
     ]
    }
   ],
   "source": [
    "def first_letter_check(st):\n",
    "    st = st.split()\n",
    "    print(st[0][0] == st[1][0])\n",
    "    \n",
    "\n",
    "first_letter_check('Levelheaded Llama')\n",
    "first_letter_check('Crazy Kangaroo')\n"
   ]
  },
  {
   "cell_type": "markdown",
   "metadata": {},
   "source": [
    "#### MAKES TWENTY: Given two integers, return True if the sum of the integers is 20 *or* if one of the integers is 20. If not, return False\n",
    "\n",
    "    makes_twenty(20,10) --> True\n",
    "    makes_twenty(12,8) --> True\n",
    "    makes_twenty(2,3) --> False"
   ]
  },
  {
   "cell_type": "code",
   "execution_count": 48,
   "metadata": {},
   "outputs": [
    {
     "name": "stdout",
     "output_type": "stream",
     "text": [
      "True\n",
      "True\n",
      "False\n"
     ]
    }
   ],
   "source": [
    "def makes_twenty(num1,num2):\n",
    "    if num1 == 20 or num2 == 20:\n",
    "        return True\n",
    "    elif num1 + num2 == 20:\n",
    "        return True\n",
    "    else:\n",
    "        return False\n",
    "    \n",
    "print(makes_twenty(12,8))\n",
    "print(makes_twenty(20,8))\n",
    "print(makes_twenty(1,8))\n",
    "\n",
    "\n",
    "    "
   ]
  },
  {
   "cell_type": "markdown",
   "metadata": {},
   "source": [
    "#### ALMOST THERE: Given an integer n, return True if n is within 10 of either 100 or 200\n",
    "\n",
    "    almost_there(90) --> True\n",
    "    almost_there(104) --> True\n",
    "    almost_there(150) --> False\n",
    "    almost_there(209) --> True\n",
    "    \n",
    "NOTE: `abs(num)` returns the absolute value of a number"
   ]
  },
  {
   "cell_type": "code",
   "execution_count": 52,
   "metadata": {},
   "outputs": [
    {
     "name": "stdout",
     "output_type": "stream",
     "text": [
      "True\n",
      "False\n"
     ]
    }
   ],
   "source": [
    "def almost_there(num):\n",
    "    if num>=90 and num <=110:\n",
    "        return True\n",
    "    elif num>=190 and num<=210:\n",
    "        return True\n",
    "    else:\n",
    "        return False\n",
    "    \n",
    "print(almost_there(190))\n",
    "print(almost_there(150))"
   ]
  },
  {
   "cell_type": "markdown",
   "metadata": {},
   "source": [
    "#### BLACKJACK: Given three integers between 1 and 11, if their sum is less than or equal to 21, return their sum. If their sum exceeds 21 *and* there's an eleven, reduce the total sum by 10. Finally, if the sum  exceeds 21, return 'BUST'\n",
    "    blackjack(5,6,7) --> 18\n",
    "    blackjack(9,9,9) --> 'BUST'\n",
    "    blackjack(9,9,11) --> 19"
   ]
  },
  {
   "cell_type": "code",
   "execution_count": 54,
   "metadata": {},
   "outputs": [
    {
     "name": "stdout",
     "output_type": "stream",
     "text": [
      "18\n",
      "Bust\n",
      "19\n"
     ]
    }
   ],
   "source": [
    "def blackjack(num1,num2,num3):\n",
    "    if num1 == 11 or num2 == 11 or num3 == 11:\n",
    "        sum = num1+num2+num3\n",
    "        if sum <= 21 :\n",
    "            return sum\n",
    "        else:\n",
    "            return sum-10\n",
    "    else:\n",
    "        sum = num1+num2+num3\n",
    "        if sum <=21:\n",
    "            return sum\n",
    "        else:\n",
    "            return 'Bust'\n",
    "\n",
    "print(blackjack(5,6,7))\n",
    "print(blackjack(9,9,9))\n",
    "print(blackjack(9,9,11)) "
   ]
  }
 ],
 "metadata": {
  "kernelspec": {
   "display_name": "Python 3",
   "language": "python",
   "name": "python3"
  },
  "language_info": {
   "codemirror_mode": {
    "name": "ipython",
    "version": 3
   },
   "file_extension": ".py",
   "mimetype": "text/x-python",
   "name": "python",
   "nbconvert_exporter": "python",
   "pygments_lexer": "ipython3",
   "version": "3.8.5"
  }
 },
 "nbformat": 4,
 "nbformat_minor": 2
}
