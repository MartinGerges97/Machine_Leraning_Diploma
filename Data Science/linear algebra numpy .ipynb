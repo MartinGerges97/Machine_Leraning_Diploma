{
 "cells": [
  {
   "cell_type": "markdown",
   "metadata": {},
   "source": [
    "## Write a Numpy program to compute the multiplication of two given matrixes"
   ]
  },
  {
   "cell_type": "code",
   "execution_count": 1,
   "metadata": {},
   "outputs": [],
   "source": [
    "#given Matrices \n",
    "A = [[1,2,3],\n",
    "    [1,2,3]]\n",
    "B = [[2,2],\n",
    "    [3,3],\n",
    "    [4,4]]"
   ]
  },
  {
   "cell_type": "code",
   "execution_count": 4,
   "metadata": {},
   "outputs": [
    {
     "name": "stdout",
     "output_type": "stream",
     "text": [
      "the original matrices: \n",
      " [[1, 2, 3], [1, 2, 3]] \n",
      " [[2, 2], [3, 3], [4, 4]]\n",
      "the resultant matrix is \n",
      " [[20 20]\n",
      " [20 20]]\n"
     ]
    }
   ],
   "source": [
    "import numpy as np\n",
    "\n",
    "# dot product of two given matrices \n",
    "\n",
    "result = np.dot(A,B)\n",
    "\n",
    "print('the original matrices: \\n', A , '\\n', B)\n",
    "print('the resultant matrix is \\n', result)"
   ]
  },
  {
   "cell_type": "markdown",
   "metadata": {},
   "source": [
    "## Write a NumPy program to compute the determinant of a given square array"
   ]
  },
  {
   "cell_type": "code",
   "execution_count": 10,
   "metadata": {},
   "outputs": [],
   "source": [
    "# given square matrix\n",
    "\n",
    "Matrix = [[1,2,3],\n",
    "          [4,5,6],\n",
    "          [7,8,9]]"
   ]
  },
  {
   "cell_type": "code",
   "execution_count": 11,
   "metadata": {},
   "outputs": [
    {
     "data": {
      "text/plain": [
       "-9.51619735392994e-16"
      ]
     },
     "execution_count": 11,
     "metadata": {},
     "output_type": "execute_result"
    }
   ],
   "source": [
    "# computing the determine of the matrix\n",
    "\n",
    "determine = np.linalg.det(Matrix)\n",
    "determine"
   ]
  },
  {
   "cell_type": "markdown",
   "metadata": {},
   "source": [
    "## Write a NumPy program to compute the cross product of two given vectors"
   ]
  },
  {
   "cell_type": "code",
   "execution_count": 17,
   "metadata": {},
   "outputs": [],
   "source": [
    "#given vectors\n",
    "vector_1 = [[1,2],[3,4]]\n",
    "vector_2 = [[0,1],[2,1]]\n"
   ]
  },
  {
   "cell_type": "code",
   "execution_count": 16,
   "metadata": {},
   "outputs": [
    {
     "data": {
      "text/plain": [
       "array([ 1, -5])"
      ]
     },
     "execution_count": 16,
     "metadata": {},
     "output_type": "execute_result"
    }
   ],
   "source": [
    "#computing the cross product of two vectors\n",
    "\n",
    "result = np.cross(vector_1,vector_2)\n",
    "result"
   ]
  },
  {
   "cell_type": "markdown",
   "metadata": {},
   "source": [
    "## Write a NumPy program to compute the condition number of a given matrix"
   ]
  },
  {
   "cell_type": "code",
   "execution_count": 18,
   "metadata": {},
   "outputs": [],
   "source": [
    "#given matrix\n",
    "\n",
    "M = [[1,2,3],\n",
    "    [4,5,6],\n",
    "    [7,8,9]]\n"
   ]
  },
  {
   "cell_type": "code",
   "execution_count": 23,
   "metadata": {},
   "outputs": [
    {
     "name": "stdout",
     "output_type": "stream",
     "text": [
      "the conditon number of the matrix\n",
      " [[1, 2, 3], [4, 5, 6], [7, 8, 9]] \n",
      "is --> 5.0522794445385096e+16\n"
     ]
    }
   ],
   "source": [
    "#computing the condition number of the matrix\n",
    "\n",
    "print('the conditon number of the matrix\\n', M, '\\nis -->', np.linalg.cond(M))"
   ]
  },
  {
   "cell_type": "markdown",
   "metadata": {},
   "source": [
    "## Write a NumPy program to compute the inverse of a given matrix"
   ]
  },
  {
   "cell_type": "code",
   "execution_count": 29,
   "metadata": {},
   "outputs": [],
   "source": [
    "#given matrix\n",
    "\n",
    "matrix = [[1,2],\n",
    "          [3,4]]\n"
   ]
  },
  {
   "cell_type": "code",
   "execution_count": 30,
   "metadata": {},
   "outputs": [
    {
     "name": "stdout",
     "output_type": "stream",
     "text": [
      "the inverse of the matrix\n",
      " [[1, 2], [3, 4]] \n",
      "is -->\n",
      " [[-2.   1. ]\n",
      " [ 1.5 -0.5]]\n"
     ]
    }
   ],
   "source": [
    "# computing the inverse of a matrix\n",
    "\n",
    "print('the inverse of the matrix\\n', matrix, '\\nis -->\\n', np.linalg.inv(matrix))"
   ]
  }
 ],
 "metadata": {
  "kernelspec": {
   "display_name": "Python 3",
   "language": "python",
   "name": "python3"
  },
  "language_info": {
   "codemirror_mode": {
    "name": "ipython",
    "version": 3
   },
   "file_extension": ".py",
   "mimetype": "text/x-python",
   "name": "python",
   "nbconvert_exporter": "python",
   "pygments_lexer": "ipython3",
   "version": "3.8.5"
  }
 },
 "nbformat": 4,
 "nbformat_minor": 2
}
